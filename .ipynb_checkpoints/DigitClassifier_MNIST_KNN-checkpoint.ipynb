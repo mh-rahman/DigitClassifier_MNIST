{
 "cells": [
  {
   "cell_type": "code",
   "execution_count": 1,
   "metadata": {},
   "outputs": [],
   "source": [
    "import heapq\n",
    "import operator \n",
    "import numpy as np\n",
    "from mnist import MNIST"
   ]
  },
  {
   "cell_type": "code",
   "execution_count": 2,
   "metadata": {},
   "outputs": [
    {
     "name": "stdout",
     "output_type": "stream",
     "text": [
      "Data imported!\n"
     ]
    }
   ],
   "source": [
    "mndata = MNIST('Data')\n",
    "train_images_data, train_labels_data = mndata.load_training()\n",
    "test_images_data, test_labels_data = mndata.load_testing()\n",
    "print('Data imported!')"
   ]
  },
  {
   "cell_type": "code",
   "execution_count": 3,
   "metadata": {},
   "outputs": [],
   "source": [
    "train_images=np.asarray(train_images_data)\n",
    "test_images=np.asarray(test_images_data)\n",
    "train_labels=np.asarray(train_labels_data)\n",
    "test_labels=np.asarray(test_labels_data)"
   ]
  },
  {
   "cell_type": "code",
   "execution_count": 24,
   "metadata": {},
   "outputs": [],
   "source": [
    "def knn(train_images, train_labels, test_images,k=1 ):\n",
    "    K=[1,3,5,10,20,30,40,50,60]\n",
    "    predictions={}\n",
    "    for k in K:\n",
    "      predictions[k]=[]\n",
    "    for i in range(100):\n",
    "        if i%100==0 or i==10000:     \n",
    "            print('Predictions completed: ', i)\n",
    "        diff=test_images[i]-train_images\n",
    "        s=np.sqrt(np.sum(np.square(diff), axis=1))\n",
    "        s=s.reshape((60000,1))\n",
    "        train_labels_reshaped=train_labels.reshape((60000,1))\n",
    "        final=np.hstack((s,train_labels_reshaped))\n",
    "        final = final[final[:,0].argsort()]\n",
    "        for k in K:\n",
    "          final_labels=final[:,1][:k]\n",
    "          unique, counts = np.unique(final_labels, return_counts=True)\n",
    "          x=dict(zip(unique, counts))\n",
    "          predictions[k].append(int(max(x.items(), key=operator.itemgetter(1))[0]))\n",
    "    return predictions"
   ]
  },
  {
   "cell_type": "code",
   "execution_count": 25,
   "metadata": {},
   "outputs": [
    {
     "name": "stdout",
     "output_type": "stream",
     "text": [
      "Predictions completed:  0\n"
     ]
    }
   ],
   "source": [
    "predictions=knn(train_images, train_labels, test_images,1)"
   ]
  },
  {
   "cell_type": "code",
   "execution_count": 26,
   "metadata": {},
   "outputs": [
    {
     "name": "stdout",
     "output_type": "stream",
     "text": [
      "1 100.0\n",
      "3 99.0\n",
      "5 99.0\n",
      "10 96.0\n",
      "20 97.0\n",
      "30 97.0\n",
      "40 98.0\n",
      "50 96.0\n",
      "60 97.0\n"
     ]
    }
   ],
   "source": [
    "K=[1,3,5,10,20,30,40,50,60]\n",
    "acc=[]\n",
    "for k in K:\n",
    "    prediction=predictions[k]\n",
    "    prediction=np.asarray(prediction)\n",
    "    diff=prediction-test_labels[:100]\n",
    "    unique, counts = np.unique(diff, return_counts=True)\n",
    "    diff_dict=dict(zip(unique, counts))\n",
    "    accuracy=(diff_dict[0]/100)*100\n",
    "    acc.append(accuracy)\n",
    "    print(k, accuracy)"
   ]
  },
  {
   "cell_type": "code",
   "execution_count": 27,
   "metadata": {},
   "outputs": [
    {
     "data": {
      "text/plain": [
       "[<matplotlib.lines.Line2D at 0x1ce2b644288>]"
      ]
     },
     "execution_count": 27,
     "metadata": {},
     "output_type": "execute_result"
    },
    {
     "data": {
      "image/png": "[encoded data removed]",
      "text/plain": [
       "<Figure size 432x288 with 1 Axes>"
      ]
     },
     "metadata": {},
     "output_type": "display_data"
    }
   ],
   "source": [
    "%matplotlib inline\n",
    "import matplotlib.pyplot as plt\n",
    "plt.style.use('seaborn-whitegrid')\n",
    "fig = plt.figure()\n",
    "axes.set_ylim([50,100])\n",
    "ax = plt.axes()\n",
    "ax.plot(K,acc)"
   ]
  },
  {
   "cell_type": "code",
   "execution_count": null,
   "metadata": {},
   "outputs": [],
   "source": []
  }
 ],
 "metadata": {
  "kernelspec": {
   "display_name": "Python 3",
   "language": "python",
   "name": "python3"
  },
  "language_info": {
   "codemirror_mode": {
    "name": "ipython",
    "version": 3
   },
   "file_extension": ".py",
   "mimetype": "text/x-python",
   "name": "python",
   "nbconvert_exporter": "python",
   "pygments_lexer": "ipython3",
   "version": "3.7.5"
  }
 },
 "nbformat": 4,
 "nbformat_minor": 2
}
