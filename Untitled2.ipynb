{
 "cells": [
  {
   "cell_type": "code",
   "execution_count": 1,
   "metadata": {},
   "outputs": [
    {
     "name": "stdout",
     "output_type": "stream",
     "text": [
      "Collecting python-mnist\n",
      "  Downloading https://files.pythonhosted.org/packages/05/9c/f1c1e4d011b01ac436bba0ac6715b3f988bb7f8fec6f21f89cf820aa33e1/python-mnist-0.6.tar.gz\n",
      "Building wheels for collected packages: python-mnist\n",
      "  Building wheel for python-mnist (setup.py): started\n",
      "  Building wheel for python-mnist (setup.py): finished with status 'done'\n",
      "  Created wheel for python-mnist: filename=python_mnist-0.6-py2.py3-none-any.whl size=11664 sha256=fedbac66cbc4155db3f22fb87702b70473c88961287d5b66f3fd5d2f68fef8de\n",
      "  Stored in directory: C:\\Users\\hasee\\AppData\\Local\\pip\\Cache\\wheels\\28\\29\\36\\408f83545a511c43d03ef997a1dc99b49ccd5f9f306ed92468\n",
      "Successfully built python-mnist\n",
      "Installing collected packages: python-mnist\n",
      "Successfully installed python-mnist-0.6\n",
      "Note: you may need to restart the kernel to use updated packages.\n"
     ]
    }
   ],
   "source": []
  },
  {
   "cell_type": "code",
   "execution_count": 2,
   "metadata": {},
   "outputs": [],
   "source": [
    "import heapq\n",
    "import operator \n",
    "import numpy as np\n",
    "from mnist import MNIST"
   ]
  },
  {
   "cell_type": "code",
   "execution_count": null,
   "metadata": {},
   "outputs": [],
   "source": [
    "mndata = MNIST('C:\\Users\\hasee\\OneDrive\\Desktop\\ASU\\575\\HW3')\n",
    "train_images_data, train_labels_data = mndata.load_training()\n",
    "test_images_data, test_labels_data = mndata.load_testing()\n",
    "print('Data imported!')"
   ]
  }
 ],
 "metadata": {
  "kernelspec": {
   "display_name": "Python 3",
   "language": "python",
   "name": "python3"
  },
  "language_info": {
   "codemirror_mode": {
    "name": "ipython",
    "version": 3
   },
   "file_extension": ".py",
   "mimetype": "text/x-python",
   "name": "python",
   "nbconvert_exporter": "python",
   "pygments_lexer": "ipython3",
   "version": "3.7.5"
  }
 },
 "nbformat": 4,
 "nbformat_minor": 2
}
